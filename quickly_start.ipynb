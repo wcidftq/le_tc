{
 "cells": [
  {
   "cell_type": "code",
   "id": "initial_id",
   "metadata": {
    "collapsed": true,
    "ExecuteTime": {
     "end_time": "2024-11-15T16:53:49.971304Z",
     "start_time": "2024-11-15T16:53:49.967750Z"
    }
   },
   "source": [
    "import torch\n",
    "from torch import nn\n",
    "from torch.utils.data import DataLoader\n",
    "from torchvision import datasets\n",
    "from torchvision.transforms import ToTensor"
   ],
   "outputs": [],
   "execution_count": 4
  },
  {
   "metadata": {},
   "cell_type": "markdown",
   "source": "### 从datasets下载数据，并完成数据划分",
   "id": "879ac7596a9337a4"
  },
  {
   "metadata": {
    "ExecuteTime": {
     "end_time": "2024-11-15T16:51:25.278965Z",
     "start_time": "2024-11-15T16:51:15.334887Z"
    }
   },
   "cell_type": "code",
   "source": [
    "# 训练集\n",
    "training_data = datasets.FashionMNIST(root='data', train=True, transform=ToTensor(), download=True)\n",
    "# 测试集\n",
    "test_data = datasets.FashionMNIST(root='data', train=False, transform=ToTensor(), download=True)"
   ],
   "id": "b4a9f3ab21861f3c",
   "outputs": [
    {
     "name": "stdout",
     "output_type": "stream",
     "text": [
      "Downloading http://fashion-mnist.s3-website.eu-central-1.amazonaws.com/train-images-idx3-ubyte.gz\n",
      "Downloading http://fashion-mnist.s3-website.eu-central-1.amazonaws.com/train-images-idx3-ubyte.gz to data\\FashionMNIST\\raw\\train-images-idx3-ubyte.gz\n"
     ]
    },
    {
     "name": "stderr",
     "output_type": "stream",
     "text": [
      "100%|██████████| 26.4M/26.4M [00:03<00:00, 8.71MB/s]\n"
     ]
    },
    {
     "name": "stdout",
     "output_type": "stream",
     "text": [
      "Extracting data\\FashionMNIST\\raw\\train-images-idx3-ubyte.gz to data\\FashionMNIST\\raw\n",
      "\n",
      "Downloading http://fashion-mnist.s3-website.eu-central-1.amazonaws.com/train-labels-idx1-ubyte.gz\n",
      "Downloading http://fashion-mnist.s3-website.eu-central-1.amazonaws.com/train-labels-idx1-ubyte.gz to data\\FashionMNIST\\raw\\train-labels-idx1-ubyte.gz\n"
     ]
    },
    {
     "name": "stderr",
     "output_type": "stream",
     "text": [
      "100%|██████████| 29.5k/29.5k [00:00<00:00, 187kB/s]\n"
     ]
    },
    {
     "name": "stdout",
     "output_type": "stream",
     "text": [
      "Extracting data\\FashionMNIST\\raw\\train-labels-idx1-ubyte.gz to data\\FashionMNIST\\raw\n",
      "\n",
      "Downloading http://fashion-mnist.s3-website.eu-central-1.amazonaws.com/t10k-images-idx3-ubyte.gz\n",
      "Downloading http://fashion-mnist.s3-website.eu-central-1.amazonaws.com/t10k-images-idx3-ubyte.gz to data\\FashionMNIST\\raw\\t10k-images-idx3-ubyte.gz\n"
     ]
    },
    {
     "name": "stderr",
     "output_type": "stream",
     "text": [
      "100%|██████████| 4.42M/4.42M [00:01<00:00, 3.43MB/s]\n"
     ]
    },
    {
     "name": "stdout",
     "output_type": "stream",
     "text": [
      "Extracting data\\FashionMNIST\\raw\\t10k-images-idx3-ubyte.gz to data\\FashionMNIST\\raw\n",
      "\n",
      "Downloading http://fashion-mnist.s3-website.eu-central-1.amazonaws.com/t10k-labels-idx1-ubyte.gz\n",
      "Downloading http://fashion-mnist.s3-website.eu-central-1.amazonaws.com/t10k-labels-idx1-ubyte.gz to data\\FashionMNIST\\raw\\t10k-labels-idx1-ubyte.gz\n"
     ]
    },
    {
     "name": "stderr",
     "output_type": "stream",
     "text": [
      "100%|██████████| 5.15k/5.15k [00:00<?, ?B/s]"
     ]
    },
    {
     "name": "stdout",
     "output_type": "stream",
     "text": [
      "Extracting data\\FashionMNIST\\raw\\t10k-labels-idx1-ubyte.gz to data\\FashionMNIST\\raw\n",
      "\n"
     ]
    },
    {
     "name": "stderr",
     "output_type": "stream",
     "text": [
      "\n"
     ]
    }
   ],
   "execution_count": 2
  },
  {
   "metadata": {},
   "cell_type": "markdown",
   "source": "### 将 Dataset 作为参数传递给 DataLoader。这将包装数据集上的一个可迭代对象，并支持自动批处理、采样、洗牌和多进程数据加载。这里我们定义一个批次大小为 64，即数据加载器可迭代对象中的每个元素将返回一个包含 64 个特征和标签的批次。",
   "id": "33a3a41f53f2d061"
  },
  {
   "metadata": {
    "ExecuteTime": {
     "end_time": "2024-11-15T16:53:53.411064Z",
     "start_time": "2024-11-15T16:53:53.386015Z"
    }
   },
   "cell_type": "code",
   "source": [
    "batch_size = 64\n",
    "\n",
    "# Create data loaders.\n",
    "train_dataloader = DataLoader(training_data, batch_size=batch_size)\n",
    "test_dataloader = DataLoader(test_data, batch_size=batch_size)\n",
    "\n",
    "for X, y in test_dataloader:\n",
    "    print(f\"Shape of X [N, C, H, W]: {X.shape}\")\n",
    "    print(f\"Shape of y: {y.shape} {y.dtype}\")\n",
    "    break"
   ],
   "id": "867feeaaa6eddbfa",
   "outputs": [
    {
     "name": "stdout",
     "output_type": "stream",
     "text": [
      "Shape of X [N, C, H, W]: torch.Size([64, 1, 28, 28])\n",
      "Shape of y: torch.Size([64]) torch.int64\n"
     ]
    }
   ],
   "execution_count": 5
  },
  {
   "metadata": {},
   "cell_type": "markdown",
   "source": [
    "## 创建模型\n",
    "为了在 PyTorch 中定义一个神经网络，我们创建一个继承自 nn.Module 的类。我们在 __init__ 函数中定义网络的层，并在 forward 函数中指定数据如何通过网络传递。为了加速神经网络中的操作，我们将它移动到 GPU 或 MPS（如果可用）"
   ],
   "id": "6170a617715e6bef"
  },
  {
   "metadata": {
    "ExecuteTime": {
     "end_time": "2024-11-15T16:58:53.777659Z",
     "start_time": "2024-11-15T16:58:53.661213Z"
    }
   },
   "cell_type": "code",
   "source": [
    "# 选择训练所用硬件\n",
    "device = (\n",
    "    \"cuda\"\n",
    "    if torch.cuda.is_available()\n",
    "    else \"mps\"\n",
    "    if torch.backends.mps.is_available()\n",
    "    else \"cpu\"\n",
    ")\n",
    "print(f\"Using {device} device\")\n",
    "\n",
    "# 定义模型\n",
    "class NeuralNetwork(nn.Module):\n",
    "    def __init__(self):\n",
    "        super().__init__()\n",
    "        self.flatten = nn.Flatten()\n",
    "        self.linear_relu_stack = nn.Sequential(\n",
    "            nn.Linear(28*28, 512),\n",
    "            nn.ReLU(),\n",
    "            nn.Linear(512, 512),\n",
    "            nn.ReLU(),\n",
    "            nn.Linear(512, 10)\n",
    "        )\n",
    "\n",
    "    def forward(self, x):\n",
    "        x = self.flatten(x)\n",
    "        logits = self.linear_relu_stack(x)\n",
    "        return logits\n",
    "\n",
    "model = NeuralNetwork().to(device)\n",
    "print(model)"
   ],
   "id": "686697f9a5876ab0",
   "outputs": [
    {
     "name": "stdout",
     "output_type": "stream",
     "text": [
      "Using cuda device\n",
      "NeuralNetwork(\n",
      "  (flatten): Flatten(start_dim=1, end_dim=-1)\n",
      "  (linear_relu_stack): Sequential(\n",
      "    (0): Linear(in_features=784, out_features=512, bias=True)\n",
      "    (1): ReLU()\n",
      "    (2): Linear(in_features=512, out_features=512, bias=True)\n",
      "    (3): ReLU()\n",
      "    (4): Linear(in_features=512, out_features=10, bias=True)\n",
      "  )\n",
      ")\n"
     ]
    }
   ],
   "execution_count": 6
  },
  {
   "metadata": {},
   "cell_type": "markdown",
   "source": [
    "# 优化模型参数\n",
    "为了训练模型，我们需要一个**损失函数**和一个**优化器**。"
   ],
   "id": "959ef08e0f1a7235"
  },
  {
   "metadata": {
    "ExecuteTime": {
     "end_time": "2024-11-15T17:01:42.942692Z",
     "start_time": "2024-11-15T17:01:42.938129Z"
    }
   },
   "cell_type": "code",
   "source": [
    "loss_fn = nn.CrossEntropyLoss()\n",
    "optimizer = torch.optim.SGD(model.parameters(), lr=1e-3)"
   ],
   "id": "d7cd6652b3a20a24",
   "outputs": [],
   "execution_count": 7
  },
  {
   "metadata": {},
   "cell_type": "markdown",
   "source": "在一个训练循环中，模型对训练数据集（以批次形式馈送到它）进行预测，并将预测误差反向传播以调整模型的参数。",
   "id": "66b762dbb7c91d61"
  },
  {
   "metadata": {
    "ExecuteTime": {
     "end_time": "2024-11-15T17:02:21.964800Z",
     "start_time": "2024-11-15T17:02:21.961501Z"
    }
   },
   "cell_type": "code",
   "source": [
    "def train(dataloader, model, loss_fn, optimizer):\n",
    "    size = len(dataloader.dataset)\n",
    "    model.train()\n",
    "    for batch, (X, y) in enumerate(dataloader):\n",
    "        X, y = X.to(device), y.to(device)\n",
    "\n",
    "        # Compute prediction error\n",
    "        pred = model(X)\n",
    "        loss = loss_fn(pred, y)\n",
    "\n",
    "        # Backpropagation\n",
    "        loss.backward()\n",
    "        optimizer.step()\n",
    "        optimizer.zero_grad()\n",
    "\n",
    "        if batch % 100 == 0:\n",
    "            loss, current = loss.item(), (batch + 1) * len(X)\n",
    "            print(f\"loss: {loss:>7f}  [{current:>5d}/{size:>5d}]\")"
   ],
   "id": "212c360019dcb841",
   "outputs": [],
   "execution_count": 8
  },
  {
   "metadata": {},
   "cell_type": "markdown",
   "source": "我们还会检查模型对测试数据集的性能，以确保它正在学习。",
   "id": "ce8969719ef1279b"
  },
  {
   "metadata": {
    "ExecuteTime": {
     "end_time": "2024-11-15T17:02:42.298427Z",
     "start_time": "2024-11-15T17:02:42.294867Z"
    }
   },
   "cell_type": "code",
   "source": [
    "def test(dataloader, model, loss_fn):\n",
    "    size = len(dataloader.dataset)\n",
    "    num_batches = len(dataloader)\n",
    "    model.eval()\n",
    "    test_loss, correct = 0, 0\n",
    "    with torch.no_grad():\n",
    "        for X, y in dataloader:\n",
    "            X, y = X.to(device), y.to(device)\n",
    "            pred = model(X)\n",
    "            test_loss += loss_fn(pred, y).item()\n",
    "            correct += (pred.argmax(1) == y).type(torch.float).sum().item()\n",
    "    test_loss /= num_batches\n",
    "    correct /= size\n",
    "    print(f\"Test Error: \\n Accuracy: {(100*correct):>0.1f}%, Avg loss: {test_loss:>8f} \\n\")"
   ],
   "id": "305f1e3af0ae76d7",
   "outputs": [],
   "execution_count": 9
  },
  {
   "metadata": {},
   "cell_type": "markdown",
   "source": "训练过程在几个迭代（epochs）中进行。在每个 epoch 期间，模型学习参数以做出更好的预测。我们在每个 epoch 打印模型的准确性和损失；我们希望看到准确性随着每个 epoch 的增加而增加，而损失随着每个 epoch 的增加而降低。",
   "id": "96171823a3660cb4"
  },
  {
   "metadata": {
    "ExecuteTime": {
     "end_time": "2024-11-15T17:03:26.936225Z",
     "start_time": "2024-11-15T17:03:00.661482Z"
    }
   },
   "cell_type": "code",
   "source": [
    "epochs = 5\n",
    "for t in range(epochs):\n",
    "    print(f\"Epoch {t+1}\\n-------------------------------\")\n",
    "    train(train_dataloader, model, loss_fn, optimizer)\n",
    "    test(test_dataloader, model, loss_fn)\n",
    "print(\"Done!\")"
   ],
   "id": "1a49316cc8567197",
   "outputs": [
    {
     "name": "stdout",
     "output_type": "stream",
     "text": [
      "Epoch 1\n",
      "-------------------------------\n",
      "loss: 2.302278  [   64/60000]\n",
      "loss: 2.290190  [ 6464/60000]\n",
      "loss: 2.270245  [12864/60000]\n",
      "loss: 2.271246  [19264/60000]\n",
      "loss: 2.253623  [25664/60000]\n",
      "loss: 2.221846  [32064/60000]\n",
      "loss: 2.234025  [38464/60000]\n",
      "loss: 2.197290  [44864/60000]\n",
      "loss: 2.192871  [51264/60000]\n",
      "loss: 2.169053  [57664/60000]\n",
      "Test Error: \n",
      " Accuracy: 44.2%, Avg loss: 2.163829 \n",
      "\n",
      "Epoch 2\n",
      "-------------------------------\n",
      "loss: 2.170492  [   64/60000]\n",
      "loss: 2.164888  [ 6464/60000]\n",
      "loss: 2.107510  [12864/60000]\n",
      "loss: 2.128720  [19264/60000]\n",
      "loss: 2.075923  [25664/60000]\n",
      "loss: 2.019458  [32064/60000]\n",
      "loss: 2.052581  [38464/60000]\n",
      "loss: 1.973479  [44864/60000]\n",
      "loss: 1.977960  [51264/60000]\n",
      "loss: 1.917539  [57664/60000]\n",
      "Test Error: \n",
      " Accuracy: 55.4%, Avg loss: 1.911203 \n",
      "\n",
      "Epoch 3\n",
      "-------------------------------\n",
      "loss: 1.942814  [   64/60000]\n",
      "loss: 1.918433  [ 6464/60000]\n",
      "loss: 1.801076  [12864/60000]\n",
      "loss: 1.843257  [19264/60000]\n",
      "loss: 1.730291  [25664/60000]\n",
      "loss: 1.685104  [32064/60000]\n",
      "loss: 1.714510  [38464/60000]\n",
      "loss: 1.609701  [44864/60000]\n",
      "loss: 1.629489  [51264/60000]\n",
      "loss: 1.543066  [57664/60000]\n",
      "Test Error: \n",
      " Accuracy: 59.9%, Avg loss: 1.550668 \n",
      "\n",
      "Epoch 4\n",
      "-------------------------------\n",
      "loss: 1.613220  [   64/60000]\n",
      "loss: 1.585316  [ 6464/60000]\n",
      "loss: 1.433872  [12864/60000]\n",
      "loss: 1.505464  [19264/60000]\n",
      "loss: 1.380011  [25664/60000]\n",
      "loss: 1.377557  [32064/60000]\n",
      "loss: 1.402202  [38464/60000]\n",
      "loss: 1.316417  [44864/60000]\n",
      "loss: 1.343079  [51264/60000]\n",
      "loss: 1.268212  [57664/60000]\n",
      "Test Error: \n",
      " Accuracy: 63.0%, Avg loss: 1.281765 \n",
      "\n",
      "Epoch 5\n",
      "-------------------------------\n",
      "loss: 1.352030  [   64/60000]\n",
      "loss: 1.341621  [ 6464/60000]\n",
      "loss: 1.177102  [12864/60000]\n",
      "loss: 1.278543  [19264/60000]\n",
      "loss: 1.147022  [25664/60000]\n",
      "loss: 1.172635  [32064/60000]\n",
      "loss: 1.204761  [38464/60000]\n",
      "loss: 1.130498  [44864/60000]\n",
      "loss: 1.161597  [51264/60000]\n",
      "loss: 1.101447  [57664/60000]\n",
      "Test Error: \n",
      " Accuracy: 64.6%, Avg loss: 1.110073 \n",
      "\n",
      "Done!\n"
     ]
    }
   ],
   "execution_count": 10
  },
  {
   "metadata": {},
   "cell_type": "markdown",
   "source": [
    "# 保存模型\n",
    "保存模型的一种常见方法是序列化内部状态字典（包含模型参数）。"
   ],
   "id": "ad8f7299b1057784"
  },
  {
   "metadata": {
    "ExecuteTime": {
     "end_time": "2024-11-15T17:04:13.086803Z",
     "start_time": "2024-11-15T17:04:13.074318Z"
    }
   },
   "cell_type": "code",
   "source": [
    "torch.save(model.state_dict(), \"model.pth\")\n",
    "print(\"Saved PyTorch Model State to model.pth\")"
   ],
   "id": "4fd6c2e40615e19e",
   "outputs": [
    {
     "name": "stdout",
     "output_type": "stream",
     "text": [
      "Saved PyTorch Model State to model.pth\n"
     ]
    }
   ],
   "execution_count": 11
  },
  {
   "metadata": {},
   "cell_type": "markdown",
   "source": [
    "# 加载模型\n",
    "加载模型的过程包括重新创建模型结构并将状态字典加载到其中。"
   ],
   "id": "73bef6af54dee7ba"
  },
  {
   "metadata": {
    "ExecuteTime": {
     "end_time": "2024-11-15T17:05:07.281430Z",
     "start_time": "2024-11-15T17:05:07.264128Z"
    }
   },
   "cell_type": "code",
   "source": [
    "model = NeuralNetwork().to(device)\n",
    "model.load_state_dict(torch.load(\"model.pth\", weights_only=True))"
   ],
   "id": "37027b164d505a65",
   "outputs": [
    {
     "data": {
      "text/plain": [
       "<All keys matched successfully>"
      ]
     },
     "execution_count": 12,
     "metadata": {},
     "output_type": "execute_result"
    }
   ],
   "execution_count": 12
  },
  {
   "metadata": {},
   "cell_type": "markdown",
   "source": "# 该模型已经可以进行预测",
   "id": "546f27013785cd21"
  },
  {
   "metadata": {
    "ExecuteTime": {
     "end_time": "2024-11-15T17:05:33.276659Z",
     "start_time": "2024-11-15T17:05:33.254223Z"
    }
   },
   "cell_type": "code",
   "source": [
    "classes = [\n",
    "    \"T-shirt/top\",\n",
    "    \"Trouser\",\n",
    "    \"Pullover\",\n",
    "    \"Dress\",\n",
    "    \"Coat\",\n",
    "    \"Sandal\",\n",
    "    \"Shirt\",\n",
    "    \"Sneaker\",\n",
    "    \"Bag\",\n",
    "    \"Ankle boot\",\n",
    "]\n",
    "\n",
    "model.eval()\n",
    "x, y = test_data[0][0], test_data[0][1]\n",
    "with torch.no_grad():\n",
    "    x = x.to(device)\n",
    "    pred = model(x)\n",
    "    predicted, actual = classes[pred[0].argmax(0)], classes[y]\n",
    "    print(f'Predicted: \"{predicted}\", Actual: \"{actual}\"')"
   ],
   "id": "568b875f3a845554",
   "outputs": [
    {
     "name": "stdout",
     "output_type": "stream",
     "text": [
      "Predicted: \"Ankle boot\", Actual: \"Ankle boot\"\n"
     ]
    }
   ],
   "execution_count": 13
  },
  {
   "metadata": {},
   "cell_type": "code",
   "outputs": [],
   "execution_count": null,
   "source": "",
   "id": "69b3416c93421a75"
  }
 ],
 "metadata": {
  "kernelspec": {
   "display_name": "Python 3",
   "language": "python",
   "name": "python3"
  },
  "language_info": {
   "codemirror_mode": {
    "name": "ipython",
    "version": 2
   },
   "file_extension": ".py",
   "mimetype": "text/x-python",
   "name": "python",
   "nbconvert_exporter": "python",
   "pygments_lexer": "ipython2",
   "version": "2.7.6"
  }
 },
 "nbformat": 4,
 "nbformat_minor": 5
}
